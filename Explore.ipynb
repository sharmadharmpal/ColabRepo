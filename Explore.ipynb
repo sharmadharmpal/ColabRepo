{
  "nbformat": 4,
  "nbformat_minor": 0,
  "metadata": {
    "colab": {
      "name": "Explore.ipynb",
      "provenance": [],
      "collapsed_sections": [],
      "authorship_tag": "ABX9TyOXQJeH3SgGz0oTGV9Simt7",
      "include_colab_link": true
    },
    "kernelspec": {
      "name": "python3",
      "display_name": "Python 3"
    },
    "language_info": {
      "name": "python"
    }
  },
  "cells": [
    {
      "cell_type": "markdown",
      "metadata": {
        "id": "view-in-github",
        "colab_type": "text"
      },
      "source": [
        "<a href=\"https://colab.research.google.com/github/sharmadharmpal/ColabRepo/blob/main/Explore.ipynb\" target=\"_parent\"><img src=\"https://colab.research.google.com/assets/colab-badge.svg\" alt=\"Open In Colab\"/></a>"
      ]
    },
    {
      "cell_type": "code",
      "metadata": {
        "id": "gUHN8qnvk7HP"
      },
      "source": [
        "import pandas as pd"
      ],
      "execution_count": null,
      "outputs": []
    },
    {
      "cell_type": "code",
      "metadata": {
        "id": "V0F1Mm3C5JAI"
      },
      "source": [
        "import numpy as np"
      ],
      "execution_count": null,
      "outputs": []
    },
    {
      "cell_type": "code",
      "metadata": {
        "id": "W36ZrGraM_wp"
      },
      "source": [
        "%matplotlib inline"
      ],
      "execution_count": null,
      "outputs": []
    },
    {
      "cell_type": "code",
      "metadata": {
        "id": "R8TsSc1fM_3s"
      },
      "source": [
        "import pylab"
      ],
      "execution_count": null,
      "outputs": []
    },
    {
      "cell_type": "code",
      "metadata": {
        "id": "D3lcG0Rkk9-B"
      },
      "source": [
        "import seaborn as sns"
      ],
      "execution_count": null,
      "outputs": []
    },
    {
      "cell_type": "code",
      "metadata": {
        "id": "ofYviuR6ZQ0j"
      },
      "source": [
        ""
      ],
      "execution_count": null,
      "outputs": []
    },
    {
      "cell_type": "code",
      "metadata": {
        "id": "xAgjw_OM5JDI"
      },
      "source": [
        "dataset=pd.read_csv(\"https://raw.githubusercontent.com/sharmadharmpal/PTestData/main/acquisitions.csv\",error_bad_lines=False)"
      ],
      "execution_count": null,
      "outputs": []
    },
    {
      "cell_type": "markdown",
      "metadata": {
        "id": "BP-NnTKwZRct"
      },
      "source": [
        "# Exploratory Analysis"
      ]
    },
    {
      "cell_type": "code",
      "metadata": {
        "colab": {
          "base_uri": "https://localhost:8080/",
          "height": 355
        },
        "id": "LTEYqUljtRdI",
        "outputId": "e0d0824c-2ee4-4df1-8cf9-7f57cb9f8752"
      },
      "source": [
        "dataset.head(5)"
      ],
      "execution_count": null,
      "outputs": [
        {
          "output_type": "execute_result",
          "data": {
            "text/html": [
              "<div>\n",
              "<style scoped>\n",
              "    .dataframe tbody tr th:only-of-type {\n",
              "        vertical-align: middle;\n",
              "    }\n",
              "\n",
              "    .dataframe tbody tr th {\n",
              "        vertical-align: top;\n",
              "    }\n",
              "\n",
              "    .dataframe thead th {\n",
              "        text-align: right;\n",
              "    }\n",
              "</style>\n",
              "<table border=\"1\" class=\"dataframe\">\n",
              "  <thead>\n",
              "    <tr style=\"text-align: right;\">\n",
              "      <th></th>\n",
              "      <th>AcquisitionID</th>\n",
              "      <th>AcquisitionMonth</th>\n",
              "      <th>AcquisitionMonthDate</th>\n",
              "      <th>AcquisitionYear</th>\n",
              "      <th>Company</th>\n",
              "      <th>Business</th>\n",
              "      <th>Country</th>\n",
              "      <th>Value (USD)</th>\n",
              "      <th>Derived products</th>\n",
              "      <th>ParentCompany</th>\n",
              "    </tr>\n",
              "  </thead>\n",
              "  <tbody>\n",
              "    <tr>\n",
              "      <th>0</th>\n",
              "      <td>ACQ99</td>\n",
              "      <td>November</td>\n",
              "      <td>11.0</td>\n",
              "      <td>2015</td>\n",
              "      <td>bebop</td>\n",
              "      <td>Cloud software</td>\n",
              "      <td>USA</td>\n",
              "      <td>380000000.0</td>\n",
              "      <td>Google Cloud Platform</td>\n",
              "      <td>Google</td>\n",
              "    </tr>\n",
              "    <tr>\n",
              "      <th>1</th>\n",
              "      <td>ACQ98</td>\n",
              "      <td>November</td>\n",
              "      <td>11.0</td>\n",
              "      <td>2015</td>\n",
              "      <td>Fly Labs</td>\n",
              "      <td>Video editing</td>\n",
              "      <td>USA</td>\n",
              "      <td>NaN</td>\n",
              "      <td>Google Photos</td>\n",
              "      <td>Google</td>\n",
              "    </tr>\n",
              "    <tr>\n",
              "      <th>2</th>\n",
              "      <td>ACQ97</td>\n",
              "      <td>December</td>\n",
              "      <td>8.0</td>\n",
              "      <td>2015</td>\n",
              "      <td>Clearleap</td>\n",
              "      <td>Cloud-based video management</td>\n",
              "      <td>USA</td>\n",
              "      <td>NaN</td>\n",
              "      <td>NaN</td>\n",
              "      <td>IBM</td>\n",
              "    </tr>\n",
              "    <tr>\n",
              "      <th>3</th>\n",
              "      <td>ACQ96</td>\n",
              "      <td>December</td>\n",
              "      <td>18.0</td>\n",
              "      <td>2015</td>\n",
              "      <td>Metanautix</td>\n",
              "      <td>Big Data Analytics</td>\n",
              "      <td>USA</td>\n",
              "      <td>NaN</td>\n",
              "      <td>NaN</td>\n",
              "      <td>Microsoft</td>\n",
              "    </tr>\n",
              "    <tr>\n",
              "      <th>4</th>\n",
              "      <td>ACQ95</td>\n",
              "      <td>December</td>\n",
              "      <td>21.0</td>\n",
              "      <td>2015</td>\n",
              "      <td>Talko, Inc.</td>\n",
              "      <td>Mobile communications</td>\n",
              "      <td>USA</td>\n",
              "      <td>NaN</td>\n",
              "      <td>NaN</td>\n",
              "      <td>Microsoft</td>\n",
              "    </tr>\n",
              "  </tbody>\n",
              "</table>\n",
              "</div>"
            ],
            "text/plain": [
              "  AcquisitionID AcquisitionMonth  ...       Derived products  ParentCompany\n",
              "0         ACQ99         November  ...  Google Cloud Platform         Google\n",
              "1         ACQ98         November  ...          Google Photos         Google\n",
              "2         ACQ97         December  ...                    NaN            IBM\n",
              "3         ACQ96         December  ...                    NaN      Microsoft\n",
              "4         ACQ95         December  ...                    NaN      Microsoft\n",
              "\n",
              "[5 rows x 10 columns]"
            ]
          },
          "metadata": {
            "tags": []
          },
          "execution_count": 156
        }
      ]
    },
    {
      "cell_type": "code",
      "metadata": {
        "colab": {
          "base_uri": "https://localhost:8080/",
          "height": 290
        },
        "id": "NBONoeLdZn4M",
        "outputId": "0b4465cd-75e0-4eab-a810-c91416d9f7a6"
      },
      "source": [
        "dataset.describe()"
      ],
      "execution_count": null,
      "outputs": [
        {
          "output_type": "execute_result",
          "data": {
            "text/html": [
              "<div>\n",
              "<style scoped>\n",
              "    .dataframe tbody tr th:only-of-type {\n",
              "        vertical-align: middle;\n",
              "    }\n",
              "\n",
              "    .dataframe tbody tr th {\n",
              "        vertical-align: top;\n",
              "    }\n",
              "\n",
              "    .dataframe thead th {\n",
              "        text-align: right;\n",
              "    }\n",
              "</style>\n",
              "<table border=\"1\" class=\"dataframe\">\n",
              "  <thead>\n",
              "    <tr style=\"text-align: right;\">\n",
              "      <th></th>\n",
              "      <th>AcquisitionMonthDate</th>\n",
              "      <th>AcquisitionYear</th>\n",
              "      <th>Value (USD)</th>\n",
              "    </tr>\n",
              "  </thead>\n",
              "  <tbody>\n",
              "    <tr>\n",
              "      <th>count</th>\n",
              "      <td>883.000000</td>\n",
              "      <td>916.000000</td>\n",
              "      <td>2.450000e+02</td>\n",
              "    </tr>\n",
              "    <tr>\n",
              "      <th>mean</th>\n",
              "      <td>14.702152</td>\n",
              "      <td>2009.355895</td>\n",
              "      <td>7.584170e+08</td>\n",
              "    </tr>\n",
              "    <tr>\n",
              "      <th>std</th>\n",
              "      <td>8.891298</td>\n",
              "      <td>5.751690</td>\n",
              "      <td>2.453624e+09</td>\n",
              "    </tr>\n",
              "    <tr>\n",
              "      <th>min</th>\n",
              "      <td>1.000000</td>\n",
              "      <td>1987.000000</td>\n",
              "      <td>2.000000e+05</td>\n",
              "    </tr>\n",
              "    <tr>\n",
              "      <th>25%</th>\n",
              "      <td>7.000000</td>\n",
              "      <td>2006.000000</td>\n",
              "      <td>3.000000e+07</td>\n",
              "    </tr>\n",
              "    <tr>\n",
              "      <th>50%</th>\n",
              "      <td>14.000000</td>\n",
              "      <td>2011.000000</td>\n",
              "      <td>1.020000e+08</td>\n",
              "    </tr>\n",
              "    <tr>\n",
              "      <th>75%</th>\n",
              "      <td>22.000000</td>\n",
              "      <td>2014.000000</td>\n",
              "      <td>4.500000e+08</td>\n",
              "    </tr>\n",
              "    <tr>\n",
              "      <th>max</th>\n",
              "      <td>31.000000</td>\n",
              "      <td>2018.000000</td>\n",
              "      <td>2.620000e+10</td>\n",
              "    </tr>\n",
              "  </tbody>\n",
              "</table>\n",
              "</div>"
            ],
            "text/plain": [
              "       AcquisitionMonthDate  AcquisitionYear   Value (USD)\n",
              "count            883.000000       916.000000  2.450000e+02\n",
              "mean              14.702152      2009.355895  7.584170e+08\n",
              "std                8.891298         5.751690  2.453624e+09\n",
              "min                1.000000      1987.000000  2.000000e+05\n",
              "25%                7.000000      2006.000000  3.000000e+07\n",
              "50%               14.000000      2011.000000  1.020000e+08\n",
              "75%               22.000000      2014.000000  4.500000e+08\n",
              "max               31.000000      2018.000000  2.620000e+10"
            ]
          },
          "metadata": {
            "tags": []
          },
          "execution_count": 157
        }
      ]
    },
    {
      "cell_type": "code",
      "metadata": {
        "id": "R-j5Fg--Zn8p",
        "colab": {
          "base_uri": "https://localhost:8080/"
        },
        "outputId": "93346112-3535-44c6-d871-e16ce28d166b"
      },
      "source": [
        "dataset.shape"
      ],
      "execution_count": null,
      "outputs": [
        {
          "output_type": "execute_result",
          "data": {
            "text/plain": [
              "(916, 10)"
            ]
          },
          "metadata": {
            "tags": []
          },
          "execution_count": 158
        }
      ]
    },
    {
      "cell_type": "code",
      "metadata": {
        "colab": {
          "base_uri": "https://localhost:8080/"
        },
        "id": "tWvI8_hnKl_R",
        "outputId": "c1f41d59-6b40-4b85-d8c9-893c06845ed2"
      },
      "source": [
        "dataset.info()"
      ],
      "execution_count": null,
      "outputs": [
        {
          "output_type": "stream",
          "text": [
            "<class 'pandas.core.frame.DataFrame'>\n",
            "RangeIndex: 916 entries, 0 to 915\n",
            "Data columns (total 10 columns):\n",
            " #   Column                Non-Null Count  Dtype  \n",
            "---  ------                --------------  -----  \n",
            " 0   AcquisitionID         916 non-null    object \n",
            " 1   AcquisitionMonth      910 non-null    object \n",
            " 2   AcquisitionMonthDate  883 non-null    float64\n",
            " 3   AcquisitionYear       916 non-null    int64  \n",
            " 4   Company               916 non-null    object \n",
            " 5   Business              916 non-null    object \n",
            " 6   Country               870 non-null    object \n",
            " 7   Value (USD)           245 non-null    float64\n",
            " 8   Derived products      401 non-null    object \n",
            " 9   ParentCompany         916 non-null    object \n",
            "dtypes: float64(2), int64(1), object(7)\n",
            "memory usage: 71.7+ KB\n"
          ],
          "name": "stdout"
        }
      ]
    },
    {
      "cell_type": "code",
      "metadata": {
        "colab": {
          "base_uri": "https://localhost:8080/"
        },
        "id": "I127DFp2KmEJ",
        "outputId": "58e14664-0af0-43e6-a26d-26abfa3b612c"
      },
      "source": [
        "dataset.isnull().sum()"
      ],
      "execution_count": null,
      "outputs": [
        {
          "output_type": "execute_result",
          "data": {
            "text/plain": [
              "AcquisitionID             0\n",
              "AcquisitionMonth          6\n",
              "AcquisitionMonthDate     33\n",
              "AcquisitionYear           0\n",
              "Company                   0\n",
              "Business                  0\n",
              "Country                  46\n",
              "Value (USD)             671\n",
              "Derived products        515\n",
              "ParentCompany             0\n",
              "dtype: int64"
            ]
          },
          "metadata": {
            "tags": []
          },
          "execution_count": 160
        }
      ]
    },
    {
      "cell_type": "code",
      "metadata": {
        "id": "hD3kGo5-jQDC"
      },
      "source": [
        "dataset['Value (USD)']=dataset['Value (USD)']/1000000 # Just to see the whole thing lower numbers so divided by one million"
      ],
      "execution_count": null,
      "outputs": []
    },
    {
      "cell_type": "code",
      "metadata": {
        "colab": {
          "base_uri": "https://localhost:8080/"
        },
        "id": "8zB-bv84j-9P",
        "outputId": "a554e9fc-e268-4e57-a777-0e9dac757a05"
      },
      "source": [
        "dataset['Value (USD)']"
      ],
      "execution_count": null,
      "outputs": [
        {
          "output_type": "execute_result",
          "data": {
            "text/plain": [
              "0       380.0\n",
              "1         NaN\n",
              "2         NaN\n",
              "3         NaN\n",
              "4         NaN\n",
              "        ...  \n",
              "911    1309.0\n",
              "912       NaN\n",
              "913       NaN\n",
              "914       NaN\n",
              "915    7500.0\n",
              "Name: Value (USD), Length: 916, dtype: float64"
            ]
          },
          "metadata": {
            "tags": []
          },
          "execution_count": 162
        }
      ]
    },
    {
      "cell_type": "code",
      "metadata": {
        "id": "ipCqHXvhKmHY"
      },
      "source": [
        "ValueMedian=dataset['Value (USD)'].mean()"
      ],
      "execution_count": null,
      "outputs": []
    },
    {
      "cell_type": "code",
      "metadata": {
        "colab": {
          "base_uri": "https://localhost:8080/"
        },
        "id": "l79DOF-BRi-e",
        "outputId": "8d270827-8960-4484-9431-24a9b5218711"
      },
      "source": [
        "ValueMedian"
      ],
      "execution_count": null,
      "outputs": [
        {
          "output_type": "execute_result",
          "data": {
            "text/plain": [
              "758.4169795918366"
            ]
          },
          "metadata": {
            "tags": []
          },
          "execution_count": 164
        }
      ]
    },
    {
      "cell_type": "code",
      "metadata": {
        "id": "KLMVggX-KmKD"
      },
      "source": [
        "AcquisitionMonthDateMedian=dataset['AcquisitionMonthDate'].median()"
      ],
      "execution_count": null,
      "outputs": []
    },
    {
      "cell_type": "code",
      "metadata": {
        "colab": {
          "base_uri": "https://localhost:8080/"
        },
        "id": "nkH1kigURot2",
        "outputId": "ec8cdab6-87c3-4996-a331-c1ee7e54351c"
      },
      "source": [
        "AcquisitionMonthDateMedian"
      ],
      "execution_count": null,
      "outputs": [
        {
          "output_type": "execute_result",
          "data": {
            "text/plain": [
              "14.0"
            ]
          },
          "metadata": {
            "tags": []
          },
          "execution_count": 166
        }
      ]
    },
    {
      "cell_type": "code",
      "metadata": {
        "id": "TezwYYuU__pH"
      },
      "source": [
        "#AcquisitionMonthMedian=dataset['AcquisitionMonth'].median()#"
      ],
      "execution_count": null,
      "outputs": []
    },
    {
      "cell_type": "code",
      "metadata": {
        "id": "epDAXePdBGZp"
      },
      "source": [
        "#dataset['Value (USD)'].replace(np.nan,ValueMedian,inplace=True)"
      ],
      "execution_count": null,
      "outputs": []
    },
    {
      "cell_type": "code",
      "metadata": {
        "colab": {
          "base_uri": "https://localhost:8080/"
        },
        "id": "ADJN3JotDdeJ",
        "outputId": "fd12ec68-9e40-484b-e2b6-8420d9128418"
      },
      "source": [
        "dataset[dataset['Value (USD)']==ValueMedian].count()"
      ],
      "execution_count": null,
      "outputs": [
        {
          "output_type": "execute_result",
          "data": {
            "text/plain": [
              "AcquisitionID           0\n",
              "AcquisitionMonth        0\n",
              "AcquisitionMonthDate    0\n",
              "AcquisitionYear         0\n",
              "Company                 0\n",
              "Business                0\n",
              "Country                 0\n",
              "Value (USD)             0\n",
              "Derived products        0\n",
              "ParentCompany           0\n",
              "dtype: int64"
            ]
          },
          "metadata": {
            "tags": []
          },
          "execution_count": 169
        }
      ]
    },
    {
      "cell_type": "code",
      "metadata": {
        "colab": {
          "base_uri": "https://localhost:8080/",
          "height": 389
        },
        "id": "BJ14vB9zIMe7",
        "outputId": "75ffa905-d45a-4034-a0bd-43fe2796883e"
      },
      "source": [
        "dataset[dataset['Value (USD)']>ValueMedian].head(5)"
      ],
      "execution_count": null,
      "outputs": [
        {
          "output_type": "execute_result",
          "data": {
            "text/html": [
              "<div>\n",
              "<style scoped>\n",
              "    .dataframe tbody tr th:only-of-type {\n",
              "        vertical-align: middle;\n",
              "    }\n",
              "\n",
              "    .dataframe tbody tr th {\n",
              "        vertical-align: top;\n",
              "    }\n",
              "\n",
              "    .dataframe thead th {\n",
              "        text-align: right;\n",
              "    }\n",
              "</style>\n",
              "<table border=\"1\" class=\"dataframe\">\n",
              "  <thead>\n",
              "    <tr style=\"text-align: right;\">\n",
              "      <th></th>\n",
              "      <th>AcquisitionID</th>\n",
              "      <th>AcquisitionMonth</th>\n",
              "      <th>AcquisitionMonthDate</th>\n",
              "      <th>AcquisitionYear</th>\n",
              "      <th>Company</th>\n",
              "      <th>Business</th>\n",
              "      <th>Country</th>\n",
              "      <th>Value (USD)</th>\n",
              "      <th>Derived products</th>\n",
              "      <th>ParentCompany</th>\n",
              "    </tr>\n",
              "  </thead>\n",
              "  <tbody>\n",
              "    <tr>\n",
              "      <th>66</th>\n",
              "      <td>ACQ863</td>\n",
              "      <td>April</td>\n",
              "      <td>1.0</td>\n",
              "      <td>1999</td>\n",
              "      <td>Broadcast.com</td>\n",
              "      <td>Internet radio</td>\n",
              "      <td>USA</td>\n",
              "      <td>5700.000</td>\n",
              "      <td>Yahoo! Music Radio (defunct)</td>\n",
              "      <td>Yahoo</td>\n",
              "    </tr>\n",
              "    <tr>\n",
              "      <th>71</th>\n",
              "      <td>ACQ859</td>\n",
              "      <td>May</td>\n",
              "      <td>28.0</td>\n",
              "      <td>1999</td>\n",
              "      <td>GeoCities</td>\n",
              "      <td>Web hosting service</td>\n",
              "      <td>USA</td>\n",
              "      <td>3600.000</td>\n",
              "      <td>Yahoo! GeoCities</td>\n",
              "      <td>Yahoo</td>\n",
              "    </tr>\n",
              "    <tr>\n",
              "      <th>83</th>\n",
              "      <td>ACQ848</td>\n",
              "      <td>January</td>\n",
              "      <td>7.0</td>\n",
              "      <td>2000</td>\n",
              "      <td>Visio Corporation</td>\n",
              "      <td>Wholesale drawing software</td>\n",
              "      <td>USA</td>\n",
              "      <td>1375.000</td>\n",
              "      <td>NaN</td>\n",
              "      <td>Microsoft</td>\n",
              "    </tr>\n",
              "    <tr>\n",
              "      <th>90</th>\n",
              "      <td>ACQ841</td>\n",
              "      <td>April</td>\n",
              "      <td>12.0</td>\n",
              "      <td>2000</td>\n",
              "      <td>Titus Communications</td>\n",
              "      <td>Cable television</td>\n",
              "      <td>USA</td>\n",
              "      <td>944.800</td>\n",
              "      <td>NaN</td>\n",
              "      <td>Microsoft</td>\n",
              "    </tr>\n",
              "    <tr>\n",
              "      <th>105</th>\n",
              "      <td>ACQ828</td>\n",
              "      <td>April</td>\n",
              "      <td>5.0</td>\n",
              "      <td>2001</td>\n",
              "      <td>Great Plains Software</td>\n",
              "      <td>Business management software</td>\n",
              "      <td>USA</td>\n",
              "      <td>939.884</td>\n",
              "      <td>NaN</td>\n",
              "      <td>Microsoft</td>\n",
              "    </tr>\n",
              "  </tbody>\n",
              "</table>\n",
              "</div>"
            ],
            "text/plain": [
              "    AcquisitionID AcquisitionMonth  ...              Derived products  ParentCompany\n",
              "66         ACQ863            April  ...  Yahoo! Music Radio (defunct)          Yahoo\n",
              "71         ACQ859              May  ...              Yahoo! GeoCities          Yahoo\n",
              "83         ACQ848          January  ...                           NaN      Microsoft\n",
              "90         ACQ841            April  ...                           NaN      Microsoft\n",
              "105        ACQ828            April  ...                           NaN      Microsoft\n",
              "\n",
              "[5 rows x 10 columns]"
            ]
          },
          "metadata": {
            "tags": []
          },
          "execution_count": 170
        }
      ]
    },
    {
      "cell_type": "code",
      "metadata": {
        "colab": {
          "base_uri": "https://localhost:8080/",
          "height": 355
        },
        "id": "IdNkB_MfIPCn",
        "outputId": "d3df3312-71ee-4817-a9ec-723bd9a7422c"
      },
      "source": [
        "dataset[dataset['Value (USD)']<ValueMedian].head(5)"
      ],
      "execution_count": null,
      "outputs": [
        {
          "output_type": "execute_result",
          "data": {
            "text/html": [
              "<div>\n",
              "<style scoped>\n",
              "    .dataframe tbody tr th:only-of-type {\n",
              "        vertical-align: middle;\n",
              "    }\n",
              "\n",
              "    .dataframe tbody tr th {\n",
              "        vertical-align: top;\n",
              "    }\n",
              "\n",
              "    .dataframe thead th {\n",
              "        text-align: right;\n",
              "    }\n",
              "</style>\n",
              "<table border=\"1\" class=\"dataframe\">\n",
              "  <thead>\n",
              "    <tr style=\"text-align: right;\">\n",
              "      <th></th>\n",
              "      <th>AcquisitionID</th>\n",
              "      <th>AcquisitionMonth</th>\n",
              "      <th>AcquisitionMonthDate</th>\n",
              "      <th>AcquisitionYear</th>\n",
              "      <th>Company</th>\n",
              "      <th>Business</th>\n",
              "      <th>Country</th>\n",
              "      <th>Value (USD)</th>\n",
              "      <th>Derived products</th>\n",
              "      <th>ParentCompany</th>\n",
              "    </tr>\n",
              "  </thead>\n",
              "  <tbody>\n",
              "    <tr>\n",
              "      <th>0</th>\n",
              "      <td>ACQ99</td>\n",
              "      <td>November</td>\n",
              "      <td>11.0</td>\n",
              "      <td>2015</td>\n",
              "      <td>bebop</td>\n",
              "      <td>Cloud software</td>\n",
              "      <td>USA</td>\n",
              "      <td>380.00</td>\n",
              "      <td>Google Cloud Platform</td>\n",
              "      <td>Google</td>\n",
              "    </tr>\n",
              "    <tr>\n",
              "      <th>8</th>\n",
              "      <td>ACQ915</td>\n",
              "      <td>July</td>\n",
              "      <td>30.0</td>\n",
              "      <td>1987</td>\n",
              "      <td>Forethought, Inc.</td>\n",
              "      <td>Computer software</td>\n",
              "      <td>USA</td>\n",
              "      <td>14.00</td>\n",
              "      <td>NaN</td>\n",
              "      <td>Microsoft</td>\n",
              "    </tr>\n",
              "    <tr>\n",
              "      <th>28</th>\n",
              "      <td>ACQ898</td>\n",
              "      <td>January</td>\n",
              "      <td>16.0</td>\n",
              "      <td>1996</td>\n",
              "      <td>Vermeer Technologies</td>\n",
              "      <td>Software</td>\n",
              "      <td>USA</td>\n",
              "      <td>133.00</td>\n",
              "      <td>NaN</td>\n",
              "      <td>Microsoft</td>\n",
              "    </tr>\n",
              "    <tr>\n",
              "      <th>32</th>\n",
              "      <td>ACQ894</td>\n",
              "      <td>April</td>\n",
              "      <td>23.0</td>\n",
              "      <td>1996</td>\n",
              "      <td>Aspect Software Engineering</td>\n",
              "      <td>Computer software</td>\n",
              "      <td>USA</td>\n",
              "      <td>14.15</td>\n",
              "      <td>NaN</td>\n",
              "      <td>Microsoft</td>\n",
              "    </tr>\n",
              "    <tr>\n",
              "      <th>36</th>\n",
              "      <td>ACQ890</td>\n",
              "      <td>February</td>\n",
              "      <td>3.0</td>\n",
              "      <td>1997</td>\n",
              "      <td>NetCarta</td>\n",
              "      <td>Internet software</td>\n",
              "      <td>USA</td>\n",
              "      <td>20.00</td>\n",
              "      <td>NaN</td>\n",
              "      <td>Microsoft</td>\n",
              "    </tr>\n",
              "  </tbody>\n",
              "</table>\n",
              "</div>"
            ],
            "text/plain": [
              "   AcquisitionID AcquisitionMonth  ...       Derived products  ParentCompany\n",
              "0          ACQ99         November  ...  Google Cloud Platform         Google\n",
              "8         ACQ915             July  ...                    NaN      Microsoft\n",
              "28        ACQ898          January  ...                    NaN      Microsoft\n",
              "32        ACQ894            April  ...                    NaN      Microsoft\n",
              "36        ACQ890         February  ...                    NaN      Microsoft\n",
              "\n",
              "[5 rows x 10 columns]"
            ]
          },
          "metadata": {
            "tags": []
          },
          "execution_count": 171
        }
      ]
    },
    {
      "cell_type": "code",
      "metadata": {
        "id": "fpoSJjQ_N1Xv"
      },
      "source": [
        "#dataset['AcquisitionMonthDate'].replace(np.nan,99,inplace=True) #"
      ],
      "execution_count": null,
      "outputs": []
    },
    {
      "cell_type": "code",
      "metadata": {
        "id": "a4bheuvfVeU7"
      },
      "source": [
        ""
      ],
      "execution_count": null,
      "outputs": []
    },
    {
      "cell_type": "code",
      "metadata": {
        "id": "_k5QHOjjUvzv"
      },
      "source": [
        "dataset['Value (USD)'].replace(np.nan,ValueMedian,inplace=True) "
      ],
      "execution_count": null,
      "outputs": []
    },
    {
      "cell_type": "code",
      "metadata": {
        "colab": {
          "base_uri": "https://localhost:8080/"
        },
        "id": "SUSNFrf-VdGm",
        "outputId": "aacfe31e-8107-423e-b87f-a189b919a86b"
      },
      "source": [
        "dataset[dataset['Value (USD)']==ValueMedian].count()"
      ],
      "execution_count": null,
      "outputs": [
        {
          "output_type": "execute_result",
          "data": {
            "text/plain": [
              "AcquisitionID           671\n",
              "AcquisitionMonth        665\n",
              "AcquisitionMonthDate    643\n",
              "AcquisitionYear         671\n",
              "Company                 671\n",
              "Business                671\n",
              "Country                 635\n",
              "Value (USD)             671\n",
              "Derived products        281\n",
              "ParentCompany           671\n",
              "dtype: int64"
            ]
          },
          "metadata": {
            "tags": []
          },
          "execution_count": 174
        }
      ]
    },
    {
      "cell_type": "code",
      "metadata": {
        "colab": {
          "base_uri": "https://localhost:8080/"
        },
        "id": "6sxtd1HBVO7d",
        "outputId": "19ba3a13-2d67-424c-eb86-ae5183c4c5f4"
      },
      "source": [
        "dataset[dataset['Value (USD)']>ValueMedian].count()"
      ],
      "execution_count": null,
      "outputs": [
        {
          "output_type": "execute_result",
          "data": {
            "text/plain": [
              "AcquisitionID           45\n",
              "AcquisitionMonth        45\n",
              "AcquisitionMonthDate    45\n",
              "AcquisitionYear         45\n",
              "Company                 45\n",
              "Business                45\n",
              "Country                 45\n",
              "Value (USD)             45\n",
              "Derived products        11\n",
              "ParentCompany           45\n",
              "dtype: int64"
            ]
          },
          "metadata": {
            "tags": []
          },
          "execution_count": 175
        }
      ]
    },
    {
      "cell_type": "code",
      "metadata": {
        "id": "7KHY31O0SBYq"
      },
      "source": [
        "#dataset[dataset['AcquisitionMonthDate']>=99].head()"
      ],
      "execution_count": null,
      "outputs": []
    },
    {
      "cell_type": "code",
      "metadata": {
        "colab": {
          "base_uri": "https://localhost:8080/",
          "height": 282
        },
        "id": "mngSVrAFXf2S",
        "outputId": "ad34a6df-61a5-46fa-9617-4e5cc63b2a0a"
      },
      "source": [
        "dataset.boxplot(column=['Value (USD)'])"
      ],
      "execution_count": null,
      "outputs": [
        {
          "output_type": "execute_result",
          "data": {
            "text/plain": [
              "<matplotlib.axes._subplots.AxesSubplot at 0x7ff266f6d110>"
            ]
          },
          "metadata": {
            "tags": []
          },
          "execution_count": 177
        },
        {
          "output_type": "display_data",
          "data": {
            "image/png": "[encoded data removed]",
            "text/plain": [
              "<Figure size 432x288 with 1 Axes>"
            ]
          },
          "metadata": {
            "tags": [],
            "needs_background": "light"
          }
        }
      ]
    },
    {
      "cell_type": "code",
      "metadata": {
        "colab": {
          "base_uri": "https://localhost:8080/"
        },
        "id": "L4e6bHTGBGUg",
        "outputId": "d413d7d9-42e9-47b7-d695-428be4f53b19"
      },
      "source": [
        "dataset.isnull().sum()"
      ],
      "execution_count": null,
      "outputs": [
        {
          "output_type": "execute_result",
          "data": {
            "text/plain": [
              "AcquisitionID             0\n",
              "AcquisitionMonth          6\n",
              "AcquisitionMonthDate     33\n",
              "AcquisitionYear           0\n",
              "Company                   0\n",
              "Business                  0\n",
              "Country                  46\n",
              "Value (USD)               0\n",
              "Derived products        515\n",
              "ParentCompany             0\n",
              "dtype: int64"
            ]
          },
          "metadata": {
            "tags": []
          },
          "execution_count": 178
        }
      ]
    },
    {
      "cell_type": "code",
      "metadata": {
        "id": "BVojkj7IBGPT"
      },
      "source": [
        ""
      ],
      "execution_count": null,
      "outputs": []
    },
    {
      "cell_type": "code",
      "metadata": {
        "id": "qoOtPVriBGLr"
      },
      "source": [
        ""
      ],
      "execution_count": null,
      "outputs": []
    },
    {
      "cell_type": "code",
      "metadata": {
        "id": "nBtIU8iQBGIB"
      },
      "source": [
        "sorted(dataset['Value (USD)'])\n",
        "quant1,quant2 = dataset['Value (USD)'].quantile([0.25,0.75])\n",
        "IQR=quant2-quant1\n",
        "lowerrange=quant1-(1.5 * IQR)\n",
        "higherrange=quant2 + (1.5 * IQR)\n",
        "#return lowerrange,higherrange"
      ],
      "execution_count": null,
      "outputs": []
    },
    {
      "cell_type": "code",
      "metadata": {
        "id": "BkUYNnIpUprI"
      },
      "source": [
        "#lowerRange,highRange=removeOutlier(dataset['Value (USD)'])"
      ],
      "execution_count": null,
      "outputs": []
    },
    {
      "cell_type": "code",
      "metadata": {
        "colab": {
          "base_uri": "https://localhost:8080/"
        },
        "id": "MMKrauV6n3gv",
        "outputId": "52feecef-29b2-4763-c8ed-e3af427ca355"
      },
      "source": [
        "quant1,quant2"
      ],
      "execution_count": null,
      "outputs": [
        {
          "output_type": "execute_result",
          "data": {
            "text/plain": [
              "(758.4169795918366, 758.4169795918366)"
            ]
          },
          "metadata": {
            "tags": []
          },
          "execution_count": 181
        }
      ]
    },
    {
      "cell_type": "code",
      "metadata": {
        "colab": {
          "base_uri": "https://localhost:8080/"
        },
        "id": "P8lg2_ezn3dB",
        "outputId": "5afe24e6-10b6-45ce-af43-7bd60a11f3a0"
      },
      "source": [
        "quant2"
      ],
      "execution_count": null,
      "outputs": [
        {
          "output_type": "execute_result",
          "data": {
            "text/plain": [
              "758.4169795918366"
            ]
          },
          "metadata": {
            "tags": []
          },
          "execution_count": 182
        }
      ]
    },
    {
      "cell_type": "code",
      "metadata": {
        "id": "sbsrNC2Gn3Zr"
      },
      "source": [
        ""
      ],
      "execution_count": null,
      "outputs": []
    },
    {
      "cell_type": "code",
      "metadata": {
        "id": "fGDMwoNBUpnB"
      },
      "source": [
        "#lowerRange"
      ],
      "execution_count": null,
      "outputs": []
    },
    {
      "cell_type": "code",
      "metadata": {
        "id": "pXsUvVWpUpkK"
      },
      "source": [
        ""
      ],
      "execution_count": null,
      "outputs": []
    },
    {
      "cell_type": "code",
      "metadata": {
        "id": "0Js6uNk9Uper"
      },
      "source": [
        "#highRange"
      ],
      "execution_count": null,
      "outputs": []
    },
    {
      "cell_type": "code",
      "metadata": {
        "id": "xpjYHjLIUpaj"
      },
      "source": [
        "dataset['Value (USD)']=np.where(dataset['Value (USD)']>higherrange,higherrange,dataset['Value (USD)'])"
      ],
      "execution_count": null,
      "outputs": []
    },
    {
      "cell_type": "code",
      "metadata": {
        "colab": {
          "base_uri": "https://localhost:8080/"
        },
        "id": "r3riLJU1rV1P",
        "outputId": "a1a3d944-a82f-4dcd-9f88-378a97876604"
      },
      "source": [
        "dataset[dataset['Value (USD)']==higherrange].count()"
      ],
      "execution_count": null,
      "outputs": [
        {
          "output_type": "execute_result",
          "data": {
            "text/plain": [
              "AcquisitionID           916\n",
              "AcquisitionMonth        910\n",
              "AcquisitionMonthDate    883\n",
              "AcquisitionYear         916\n",
              "Company                 916\n",
              "Business                916\n",
              "Country                 870\n",
              "Value (USD)             916\n",
              "Derived products        401\n",
              "ParentCompany           916\n",
              "dtype: int64"
            ]
          },
          "metadata": {
            "tags": []
          },
          "execution_count": 188
        }
      ]
    },
    {
      "cell_type": "code",
      "metadata": {
        "id": "lyvP_4IcmZGq"
      },
      "source": [
        "dataset['Value (USD)']=np.where(dataset['Value (USD)']<lowerrange,lowerrange,dataset['Value (USD)'])"
      ],
      "execution_count": null,
      "outputs": []
    },
    {
      "cell_type": "code",
      "metadata": {
        "colab": {
          "base_uri": "https://localhost:8080/",
          "height": 286
        },
        "id": "B6wzl8dMUpUf",
        "outputId": "86bcaf52-8b27-4306-f962-eb6a0f279fee"
      },
      "source": [
        "dataset.boxplot(column=['Value (USD)'])"
      ],
      "execution_count": null,
      "outputs": [
        {
          "output_type": "execute_result",
          "data": {
            "text/plain": [
              "<matplotlib.axes._subplots.AxesSubplot at 0x7ff266f4ee50>"
            ]
          },
          "metadata": {
            "tags": []
          },
          "execution_count": 189
        },
        {
          "output_type": "display_data",
          "data": {
            "image/png": "[encoded data removed]",
            "text/plain": [
              "<Figure size 432x288 with 1 Axes>"
            ]
          },
          "metadata": {
            "tags": [],
            "needs_background": "light"
          }
        }
      ]
    },
    {
      "cell_type": "code",
      "metadata": {
        "id": "toay_fPnUpQy",
        "colab": {
          "base_uri": "https://localhost:8080/",
          "height": 139
        },
        "outputId": "7cfe1622-2d86-4306-8ece-c1134d42d1d1"
      },
      "source": [
        "dataset.corr()"
      ],
      "execution_count": null,
      "outputs": [
        {
          "output_type": "execute_result",
          "data": {
            "text/html": [
              "<div>\n",
              "<style scoped>\n",
              "    .dataframe tbody tr th:only-of-type {\n",
              "        vertical-align: middle;\n",
              "    }\n",
              "\n",
              "    .dataframe tbody tr th {\n",
              "        vertical-align: top;\n",
              "    }\n",
              "\n",
              "    .dataframe thead th {\n",
              "        text-align: right;\n",
              "    }\n",
              "</style>\n",
              "<table border=\"1\" class=\"dataframe\">\n",
              "  <thead>\n",
              "    <tr style=\"text-align: right;\">\n",
              "      <th></th>\n",
              "      <th>AcquisitionMonthDate</th>\n",
              "      <th>AcquisitionYear</th>\n",
              "      <th>Value (USD)</th>\n",
              "    </tr>\n",
              "  </thead>\n",
              "  <tbody>\n",
              "    <tr>\n",
              "      <th>AcquisitionMonthDate</th>\n",
              "      <td>1.000000e+00</td>\n",
              "      <td>-4.379919e-02</td>\n",
              "      <td>-1.812362e-16</td>\n",
              "    </tr>\n",
              "    <tr>\n",
              "      <th>AcquisitionYear</th>\n",
              "      <td>-4.379919e-02</td>\n",
              "      <td>1.000000e+00</td>\n",
              "      <td>1.905892e-14</td>\n",
              "    </tr>\n",
              "    <tr>\n",
              "      <th>Value (USD)</th>\n",
              "      <td>-1.812362e-16</td>\n",
              "      <td>1.905892e-14</td>\n",
              "      <td>1.000000e+00</td>\n",
              "    </tr>\n",
              "  </tbody>\n",
              "</table>\n",
              "</div>"
            ],
            "text/plain": [
              "                      AcquisitionMonthDate  AcquisitionYear   Value (USD)\n",
              "AcquisitionMonthDate          1.000000e+00    -4.379919e-02 -1.812362e-16\n",
              "AcquisitionYear              -4.379919e-02     1.000000e+00  1.905892e-14\n",
              "Value (USD)                  -1.812362e-16     1.905892e-14  1.000000e+00"
            ]
          },
          "metadata": {
            "tags": []
          },
          "execution_count": 190
        }
      ]
    },
    {
      "cell_type": "code",
      "metadata": {
        "id": "AEPY7VPfUpMe",
        "colab": {
          "base_uri": "https://localhost:8080/",
          "height": 387
        },
        "outputId": "cfc3507e-a3e0-4fed-83a8-8b969ad1381e"
      },
      "source": [
        "sns.heatmap(dataset.corr(),annot=True,cmap='RdYlGn')"
      ],
      "execution_count": null,
      "outputs": [
        {
          "output_type": "execute_result",
          "data": {
            "text/plain": [
              "<matplotlib.axes._subplots.AxesSubplot at 0x7ff266ea1050>"
            ]
          },
          "metadata": {
            "tags": []
          },
          "execution_count": 191
        },
        {
          "output_type": "display_data",
          "data": {
            "image/png": "[encoded data removed]",
            "text/plain": [
              "<Figure size 432x288 with 2 Axes>"
            ]
          },
          "metadata": {
            "tags": [],
            "needs_background": "light"
          }
        }
      ]
    },
    {
      "cell_type": "code",
      "metadata": {
        "id": "4rH31BtqUpHv"
      },
      "source": [
        ""
      ],
      "execution_count": null,
      "outputs": []
    },
    {
      "cell_type": "code",
      "metadata": {
        "id": "3lL18wRdUpDw"
      },
      "source": [
        ""
      ],
      "execution_count": null,
      "outputs": []
    },
    {
      "cell_type": "markdown",
      "metadata": {
        "id": "4_ieD3vLgSTW"
      },
      "source": [
        "Check missing data for all the fields"
      ]
    },
    {
      "cell_type": "code",
      "metadata": {
        "colab": {
          "base_uri": "https://localhost:8080/"
        },
        "id": "h0Zy6iTfZn_x",
        "outputId": "555bc8ae-1a80-4f63-b977-d274bf68405c"
      },
      "source": [
        ""
      ],
      "execution_count": null,
      "outputs": [
        {
          "output_type": "execute_result",
          "data": {
            "text/plain": [
              "AcquisitionID           916\n",
              "AcquisitionMonth        910\n",
              "AcquisitionMonthDate    883\n",
              "AcquisitionYear         916\n",
              "Company                 916\n",
              "Business                916\n",
              "Country                 870\n",
              "Value (USD)             916\n",
              "Derived products        401\n",
              "ParentCompany           916\n",
              "dtype: int64"
            ]
          },
          "metadata": {
            "tags": []
          },
          "execution_count": 192
        }
      ]
    },
    {
      "cell_type": "markdown",
      "metadata": {
        "id": "cWljnCZxgraY"
      },
      "source": [
        "# Non numeric field's frequency distribution"
      ]
    },
    {
      "cell_type": "code",
      "metadata": {
        "colab": {
          "base_uri": "https://localhost:8080/"
        },
        "id": "XCAFZRtRZoC3",
        "outputId": "6e3e407e-06a2-4362-99c1-cede11ca79c3"
      },
      "source": [
        "dataset['ParentCompany'].value_counts() "
      ],
      "execution_count": null,
      "outputs": [
        {
          "output_type": "execute_result",
          "data": {
            "text/plain": [
              "Google       215\n",
              "Microsoft    210\n",
              "IBM          162\n",
              "Yahoo        114\n",
              "Apple         95\n",
              "Facebook      67\n",
              "Twitter       53\n",
              "Name: ParentCompany, dtype: int64"
            ]
          },
          "metadata": {
            "tags": []
          },
          "execution_count": 121
        }
      ]
    },
    {
      "cell_type": "markdown",
      "metadata": {
        "id": "onVOaOglg90P"
      },
      "source": [
        "#Study little bit distribution of various variables"
      ]
    },
    {
      "cell_type": "code",
      "metadata": {
        "colab": {
          "base_uri": "https://localhost:8080/",
          "height": 282
        },
        "id": "dadyWG05ZoGJ",
        "outputId": "631df631-5911-4e7f-d296-f56268453d2e"
      },
      "source": [
        "dataset['Value (USD)'].hist(bins=50)"
      ],
      "execution_count": null,
      "outputs": [
        {
          "output_type": "execute_result",
          "data": {
            "text/plain": [
              "<matplotlib.axes._subplots.AxesSubplot at 0x7ff266de28d0>"
            ]
          },
          "metadata": {
            "tags": []
          },
          "execution_count": 193
        },
        {
          "output_type": "display_data",
          "data": {
            "image/png": "[encoded data removed]",
            "text/plain": [
              "<Figure size 432x288 with 1 Axes>"
            ]
          },
          "metadata": {
            "tags": [],
            "needs_background": "light"
          }
        }
      ]
    },
    {
      "cell_type": "code",
      "metadata": {
        "id": "504i5EFfZoK0"
      },
      "source": [
        ""
      ],
      "execution_count": null,
      "outputs": []
    },
    {
      "cell_type": "code",
      "metadata": {
        "colab": {
          "base_uri": "https://localhost:8080/",
          "height": 374
        },
        "id": "dk44FDCRiDwG",
        "outputId": "30f6b78e-eebf-4ec9-fe50-7f2c8d31a182"
      },
      "source": [
        "dataset.boxplot(column='Value (USD)',by='ParentCompany')"
      ],
      "execution_count": null,
      "outputs": [
        {
          "output_type": "stream",
          "text": [
            "/usr/local/lib/python3.7/dist-packages/numpy/core/_asarray.py:83: VisibleDeprecationWarning: Creating an ndarray from ragged nested sequences (which is a list-or-tuple of lists-or-tuples-or ndarrays with different lengths or shapes) is deprecated. If you meant to do this, you must specify 'dtype=object' when creating the ndarray\n",
            "  return array(a, dtype, copy=False, order=order)\n"
          ],
          "name": "stderr"
        },
        {
          "output_type": "execute_result",
          "data": {
            "text/plain": [
              "<matplotlib.axes._subplots.AxesSubplot at 0x7ff266d5a450>"
            ]
          },
          "metadata": {
            "tags": []
          },
          "execution_count": 194
        },
        {
          "output_type": "display_data",
          "data": {
            "image/png": "[encoded data removed]",
            "text/plain": [
              "<Figure size 432x288 with 1 Axes>"
            ]
          },
          "metadata": {
            "tags": [],
            "needs_background": "light"
          }
        }
      ]
    },
    {
      "cell_type": "code",
      "metadata": {
        "id": "T-n78sqIlI6F"
      },
      "source": [
        ""
      ],
      "execution_count": null,
      "outputs": []
    },
    {
      "cell_type": "code",
      "metadata": {
        "colab": {
          "base_uri": "https://localhost:8080/",
          "height": 374
        },
        "id": "Z8CeZdU6lI9w",
        "outputId": "735d3fd8-755f-4739-ebca-24393e9b2e1d"
      },
      "source": [
        "dataset.boxplot(column='AcquisitionYear',by='AcquisitionMonthDate') #AcquisitionMonthDate\tAcquisitionYear\tAcquisitionYear"
      ],
      "execution_count": null,
      "outputs": [
        {
          "output_type": "stream",
          "text": [
            "/usr/local/lib/python3.7/dist-packages/numpy/core/_asarray.py:83: VisibleDeprecationWarning: Creating an ndarray from ragged nested sequences (which is a list-or-tuple of lists-or-tuples-or ndarrays with different lengths or shapes) is deprecated. If you meant to do this, you must specify 'dtype=object' when creating the ndarray\n",
            "  return array(a, dtype, copy=False, order=order)\n"
          ],
          "name": "stderr"
        },
        {
          "output_type": "execute_result",
          "data": {
            "text/plain": [
              "<matplotlib.axes._subplots.AxesSubplot at 0x7ff266befed0>"
            ]
          },
          "metadata": {
            "tags": []
          },
          "execution_count": 195
        },
        {
          "output_type": "display_data",
          "data": {
            "image/png": "[encoded data removed]",
            "text/plain": [
              "<Figure size 432x288 with 1 Axes>"
            ]
          },
          "metadata": {
            "tags": [],
            "needs_background": "light"
          }
        }
      ]
    },
    {
      "cell_type": "code",
      "metadata": {
        "id": "utmN7lihlJA-"
      },
      "source": [
        ""
      ],
      "execution_count": null,
      "outputs": []
    },
    {
      "cell_type": "code",
      "metadata": {
        "id": "iKZk0FgKlJEb"
      },
      "source": [
        ""
      ],
      "execution_count": null,
      "outputs": []
    },
    {
      "cell_type": "code",
      "metadata": {
        "id": "P-99FZJflJHC"
      },
      "source": [
        ""
      ],
      "execution_count": null,
      "outputs": []
    },
    {
      "cell_type": "code",
      "metadata": {
        "id": "wDiyhBJPlJJv"
      },
      "source": [
        ""
      ],
      "execution_count": null,
      "outputs": []
    },
    {
      "cell_type": "code",
      "metadata": {
        "id": "T2OvhtgFlJN3"
      },
      "source": [
        ""
      ],
      "execution_count": null,
      "outputs": []
    },
    {
      "cell_type": "code",
      "metadata": {
        "id": "xh0kwwU25JFq"
      },
      "source": [
        "data=dataset.iloc[:,:]"
      ],
      "execution_count": null,
      "outputs": []
    },
    {
      "cell_type": "code",
      "metadata": {
        "id": "JswVEvYA-BH6"
      },
      "source": [
        "DollarValue=dataset.iloc[:,[7,9]]"
      ],
      "execution_count": null,
      "outputs": []
    },
    {
      "cell_type": "code",
      "metadata": {
        "id": "KE7Xg5XwR5vu"
      },
      "source": [
        "dfDS=pd.DataFrame(data)"
      ],
      "execution_count": null,
      "outputs": []
    },
    {
      "cell_type": "code",
      "metadata": {
        "colab": {
          "base_uri": "https://localhost:8080/",
          "height": 290
        },
        "id": "SMi3hfPOxPN4",
        "outputId": "6a0a3f86-61bb-4f1b-bedc-ae5bae79f037"
      },
      "source": [
        "dfDS.describe()"
      ],
      "execution_count": null,
      "outputs": [
        {
          "output_type": "execute_result",
          "data": {
            "text/html": [
              "<div>\n",
              "<style scoped>\n",
              "    .dataframe tbody tr th:only-of-type {\n",
              "        vertical-align: middle;\n",
              "    }\n",
              "\n",
              "    .dataframe tbody tr th {\n",
              "        vertical-align: top;\n",
              "    }\n",
              "\n",
              "    .dataframe thead th {\n",
              "        text-align: right;\n",
              "    }\n",
              "</style>\n",
              "<table border=\"1\" class=\"dataframe\">\n",
              "  <thead>\n",
              "    <tr style=\"text-align: right;\">\n",
              "      <th></th>\n",
              "      <th>AcquisitionMonthDate</th>\n",
              "      <th>AcquisitionYear</th>\n",
              "      <th>Value (USD)</th>\n",
              "    </tr>\n",
              "  </thead>\n",
              "  <tbody>\n",
              "    <tr>\n",
              "      <th>count</th>\n",
              "      <td>883.000000</td>\n",
              "      <td>916.000000</td>\n",
              "      <td>9.160000e+02</td>\n",
              "    </tr>\n",
              "    <tr>\n",
              "      <th>mean</th>\n",
              "      <td>14.702152</td>\n",
              "      <td>2009.355895</td>\n",
              "      <td>7.584170e+02</td>\n",
              "    </tr>\n",
              "    <tr>\n",
              "      <th>std</th>\n",
              "      <td>8.891298</td>\n",
              "      <td>5.751690</td>\n",
              "      <td>6.597439e-12</td>\n",
              "    </tr>\n",
              "    <tr>\n",
              "      <th>min</th>\n",
              "      <td>1.000000</td>\n",
              "      <td>1987.000000</td>\n",
              "      <td>7.584170e+02</td>\n",
              "    </tr>\n",
              "    <tr>\n",
              "      <th>25%</th>\n",
              "      <td>7.000000</td>\n",
              "      <td>2006.000000</td>\n",
              "      <td>7.584170e+02</td>\n",
              "    </tr>\n",
              "    <tr>\n",
              "      <th>50%</th>\n",
              "      <td>14.000000</td>\n",
              "      <td>2011.000000</td>\n",
              "      <td>7.584170e+02</td>\n",
              "    </tr>\n",
              "    <tr>\n",
              "      <th>75%</th>\n",
              "      <td>22.000000</td>\n",
              "      <td>2014.000000</td>\n",
              "      <td>7.584170e+02</td>\n",
              "    </tr>\n",
              "    <tr>\n",
              "      <th>max</th>\n",
              "      <td>31.000000</td>\n",
              "      <td>2018.000000</td>\n",
              "      <td>7.584170e+02</td>\n",
              "    </tr>\n",
              "  </tbody>\n",
              "</table>\n",
              "</div>"
            ],
            "text/plain": [
              "       AcquisitionMonthDate  AcquisitionYear   Value (USD)\n",
              "count            883.000000       916.000000  9.160000e+02\n",
              "mean              14.702152      2009.355895  7.584170e+02\n",
              "std                8.891298         5.751690  6.597439e-12\n",
              "min                1.000000      1987.000000  7.584170e+02\n",
              "25%                7.000000      2006.000000  7.584170e+02\n",
              "50%               14.000000      2011.000000  7.584170e+02\n",
              "75%               22.000000      2014.000000  7.584170e+02\n",
              "max               31.000000      2018.000000  7.584170e+02"
            ]
          },
          "metadata": {
            "tags": []
          },
          "execution_count": 131
        }
      ]
    },
    {
      "cell_type": "code",
      "metadata": {
        "id": "2UIoakJoxPd1"
      },
      "source": [
        ""
      ],
      "execution_count": null,
      "outputs": []
    },
    {
      "cell_type": "code",
      "metadata": {
        "id": "rixcgVEISCPg"
      },
      "source": [
        "df=pd.DataFrame(DollarValue) #,['CompanyName','AcquisitionValue'])"
      ],
      "execution_count": null,
      "outputs": []
    },
    {
      "cell_type": "code",
      "metadata": {
        "colab": {
          "base_uri": "https://localhost:8080/",
          "height": 410
        },
        "id": "QB1fNsX7SCSo",
        "outputId": "eb5da454-7042-484a-d34a-9ede2e1469ee"
      },
      "source": [
        "df"
      ],
      "execution_count": null,
      "outputs": [
        {
          "output_type": "execute_result",
          "data": {
            "text/html": [
              "<div>\n",
              "<style scoped>\n",
              "    .dataframe tbody tr th:only-of-type {\n",
              "        vertical-align: middle;\n",
              "    }\n",
              "\n",
              "    .dataframe tbody tr th {\n",
              "        vertical-align: top;\n",
              "    }\n",
              "\n",
              "    .dataframe thead th {\n",
              "        text-align: right;\n",
              "    }\n",
              "</style>\n",
              "<table border=\"1\" class=\"dataframe\">\n",
              "  <thead>\n",
              "    <tr style=\"text-align: right;\">\n",
              "      <th></th>\n",
              "      <th>Value (USD)</th>\n",
              "      <th>ParentCompany</th>\n",
              "    </tr>\n",
              "  </thead>\n",
              "  <tbody>\n",
              "    <tr>\n",
              "      <th>0</th>\n",
              "      <td>758.41698</td>\n",
              "      <td>Google</td>\n",
              "    </tr>\n",
              "    <tr>\n",
              "      <th>1</th>\n",
              "      <td>758.41698</td>\n",
              "      <td>Google</td>\n",
              "    </tr>\n",
              "    <tr>\n",
              "      <th>2</th>\n",
              "      <td>758.41698</td>\n",
              "      <td>IBM</td>\n",
              "    </tr>\n",
              "    <tr>\n",
              "      <th>3</th>\n",
              "      <td>758.41698</td>\n",
              "      <td>Microsoft</td>\n",
              "    </tr>\n",
              "    <tr>\n",
              "      <th>4</th>\n",
              "      <td>758.41698</td>\n",
              "      <td>Microsoft</td>\n",
              "    </tr>\n",
              "    <tr>\n",
              "      <th>...</th>\n",
              "      <td>...</td>\n",
              "      <td>...</td>\n",
              "    </tr>\n",
              "    <tr>\n",
              "      <th>911</th>\n",
              "      <td>758.41698</td>\n",
              "      <td>IBM</td>\n",
              "    </tr>\n",
              "    <tr>\n",
              "      <th>912</th>\n",
              "      <td>758.41698</td>\n",
              "      <td>Microsoft</td>\n",
              "    </tr>\n",
              "    <tr>\n",
              "      <th>913</th>\n",
              "      <td>758.41698</td>\n",
              "      <td>Google</td>\n",
              "    </tr>\n",
              "    <tr>\n",
              "      <th>914</th>\n",
              "      <td>758.41698</td>\n",
              "      <td>Microsoft</td>\n",
              "    </tr>\n",
              "    <tr>\n",
              "      <th>915</th>\n",
              "      <td>758.41698</td>\n",
              "      <td>Microsoft</td>\n",
              "    </tr>\n",
              "  </tbody>\n",
              "</table>\n",
              "<p>916 rows × 2 columns</p>\n",
              "</div>"
            ],
            "text/plain": [
              "     Value (USD) ParentCompany\n",
              "0      758.41698        Google\n",
              "1      758.41698        Google\n",
              "2      758.41698           IBM\n",
              "3      758.41698     Microsoft\n",
              "4      758.41698     Microsoft\n",
              "..           ...           ...\n",
              "911    758.41698           IBM\n",
              "912    758.41698     Microsoft\n",
              "913    758.41698        Google\n",
              "914    758.41698     Microsoft\n",
              "915    758.41698     Microsoft\n",
              "\n",
              "[916 rows x 2 columns]"
            ]
          },
          "metadata": {
            "tags": []
          },
          "execution_count": 133
        }
      ]
    },
    {
      "cell_type": "markdown",
      "metadata": {
        "id": "Y8mgvbIFSudd"
      },
      "source": [
        ""
      ]
    },
    {
      "cell_type": "markdown",
      "metadata": {
        "id": "tGUgWeQoOEm6"
      },
      "source": [
        "# Count number of NAN in a column "
      ]
    },
    {
      "cell_type": "code",
      "metadata": {
        "colab": {
          "base_uri": "https://localhost:8080/"
        },
        "id": "mifp4QM9m_mg",
        "outputId": "d95583ad-be74-492f-97d8-cfc10d0aa37c"
      },
      "source": [
        "DollarValue.isna().sum().sum()"
      ],
      "execution_count": null,
      "outputs": [
        {
          "output_type": "execute_result",
          "data": {
            "text/plain": [
              "0"
            ]
          },
          "metadata": {
            "tags": []
          },
          "execution_count": 134
        }
      ]
    },
    {
      "cell_type": "code",
      "metadata": {
        "id": "ze9i0MgTGJY4"
      },
      "source": [
        "# Five point summary"
      ],
      "execution_count": null,
      "outputs": []
    },
    {
      "cell_type": "code",
      "metadata": {
        "colab": {
          "base_uri": "https://localhost:8080/",
          "height": 290
        },
        "id": "VQg5j-NxEHec",
        "outputId": "8d9a31a8-db69-40e2-ff20-64050b55ba32"
      },
      "source": [
        "df.describe()"
      ],
      "execution_count": null,
      "outputs": [
        {
          "output_type": "execute_result",
          "data": {
            "text/html": [
              "<div>\n",
              "<style scoped>\n",
              "    .dataframe tbody tr th:only-of-type {\n",
              "        vertical-align: middle;\n",
              "    }\n",
              "\n",
              "    .dataframe tbody tr th {\n",
              "        vertical-align: top;\n",
              "    }\n",
              "\n",
              "    .dataframe thead th {\n",
              "        text-align: right;\n",
              "    }\n",
              "</style>\n",
              "<table border=\"1\" class=\"dataframe\">\n",
              "  <thead>\n",
              "    <tr style=\"text-align: right;\">\n",
              "      <th></th>\n",
              "      <th>Value (USD)</th>\n",
              "    </tr>\n",
              "  </thead>\n",
              "  <tbody>\n",
              "    <tr>\n",
              "      <th>count</th>\n",
              "      <td>9.160000e+02</td>\n",
              "    </tr>\n",
              "    <tr>\n",
              "      <th>mean</th>\n",
              "      <td>7.584170e+02</td>\n",
              "    </tr>\n",
              "    <tr>\n",
              "      <th>std</th>\n",
              "      <td>6.597439e-12</td>\n",
              "    </tr>\n",
              "    <tr>\n",
              "      <th>min</th>\n",
              "      <td>7.584170e+02</td>\n",
              "    </tr>\n",
              "    <tr>\n",
              "      <th>25%</th>\n",
              "      <td>7.584170e+02</td>\n",
              "    </tr>\n",
              "    <tr>\n",
              "      <th>50%</th>\n",
              "      <td>7.584170e+02</td>\n",
              "    </tr>\n",
              "    <tr>\n",
              "      <th>75%</th>\n",
              "      <td>7.584170e+02</td>\n",
              "    </tr>\n",
              "    <tr>\n",
              "      <th>max</th>\n",
              "      <td>7.584170e+02</td>\n",
              "    </tr>\n",
              "  </tbody>\n",
              "</table>\n",
              "</div>"
            ],
            "text/plain": [
              "        Value (USD)\n",
              "count  9.160000e+02\n",
              "mean   7.584170e+02\n",
              "std    6.597439e-12\n",
              "min    7.584170e+02\n",
              "25%    7.584170e+02\n",
              "50%    7.584170e+02\n",
              "75%    7.584170e+02\n",
              "max    7.584170e+02"
            ]
          },
          "metadata": {
            "tags": []
          },
          "execution_count": 136
        }
      ]
    },
    {
      "cell_type": "code",
      "metadata": {
        "colab": {
          "base_uri": "https://localhost:8080/",
          "height": 286
        },
        "id": "tGDXrSC5M8FF",
        "outputId": "2d908584-38fd-4155-e604-ba6be50fe676"
      },
      "source": [
        "df.boxplot()"
      ],
      "execution_count": null,
      "outputs": [
        {
          "output_type": "execute_result",
          "data": {
            "text/plain": [
              "<matplotlib.axes._subplots.AxesSubplot at 0x7ff2670d2cd0>"
            ]
          },
          "metadata": {
            "tags": []
          },
          "execution_count": 137
        },
        {
          "output_type": "display_data",
          "data": {
            "image/png": "[encoded data removed]",
            "text/plain": [
              "<Figure size 432x288 with 1 Axes>"
            ]
          },
          "metadata": {
            "tags": [],
            "needs_background": "light"
          }
        }
      ]
    },
    {
      "cell_type": "code",
      "metadata": {
        "colab": {
          "base_uri": "https://localhost:8080/",
          "height": 286
        },
        "id": "rQUkeBJkM8JD",
        "outputId": "65fb1203-8d48-4519-9a4d-0af3de67b536"
      },
      "source": [
        "sns.scatterplot() #(df['Value (USD)'],hist=True,kde=True)"
      ],
      "execution_count": null,
      "outputs": [
        {
          "output_type": "execute_result",
          "data": {
            "text/plain": [
              "<matplotlib.axes._subplots.AxesSubplot at 0x7ff26704e6d0>"
            ]
          },
          "metadata": {
            "tags": []
          },
          "execution_count": 138
        },
        {
          "output_type": "display_data",
          "data": {
            "image/png": "[encoded data removed]",
            "text/plain": [
              "<Figure size 432x288 with 1 Axes>"
            ]
          },
          "metadata": {
            "tags": [],
            "needs_background": "light"
          }
        }
      ]
    },
    {
      "cell_type": "code",
      "metadata": {
        "id": "PSLc7hoRM8LU"
      },
      "source": [
        ""
      ],
      "execution_count": null,
      "outputs": []
    },
    {
      "cell_type": "code",
      "metadata": {
        "id": "5Anqd9-BM8N1"
      },
      "source": [
        ""
      ],
      "execution_count": null,
      "outputs": []
    },
    {
      "cell_type": "code",
      "metadata": {
        "id": "ehIkgvIBM8Qm"
      },
      "source": [
        ""
      ],
      "execution_count": null,
      "outputs": []
    },
    {
      "cell_type": "code",
      "metadata": {
        "id": "2-AYjOYlM8TV"
      },
      "source": [
        ""
      ],
      "execution_count": null,
      "outputs": []
    },
    {
      "cell_type": "code",
      "metadata": {
        "id": "ERSNamJ1M8Wg"
      },
      "source": [
        ""
      ],
      "execution_count": null,
      "outputs": []
    },
    {
      "cell_type": "code",
      "metadata": {
        "id": "4YqnawrQEHh0"
      },
      "source": [
        ""
      ],
      "execution_count": null,
      "outputs": []
    },
    {
      "cell_type": "code",
      "metadata": {
        "id": "TEHTvKaX1a_1"
      },
      "source": [
        "Month=dataset.iloc[:,[1]]"
      ],
      "execution_count": null,
      "outputs": []
    },
    {
      "cell_type": "code",
      "metadata": {
        "colab": {
          "base_uri": "https://localhost:8080/",
          "height": 410
        },
        "id": "RxHCfg9Q7TgU",
        "outputId": "17d33b23-3dc2-445c-b9db-e09ac4c78aab"
      },
      "source": [
        "Month"
      ],
      "execution_count": null,
      "outputs": [
        {
          "output_type": "execute_result",
          "data": {
            "text/html": [
              "<div>\n",
              "<style scoped>\n",
              "    .dataframe tbody tr th:only-of-type {\n",
              "        vertical-align: middle;\n",
              "    }\n",
              "\n",
              "    .dataframe tbody tr th {\n",
              "        vertical-align: top;\n",
              "    }\n",
              "\n",
              "    .dataframe thead th {\n",
              "        text-align: right;\n",
              "    }\n",
              "</style>\n",
              "<table border=\"1\" class=\"dataframe\">\n",
              "  <thead>\n",
              "    <tr style=\"text-align: right;\">\n",
              "      <th></th>\n",
              "      <th>AcquisitionMonth</th>\n",
              "    </tr>\n",
              "  </thead>\n",
              "  <tbody>\n",
              "    <tr>\n",
              "      <th>0</th>\n",
              "      <td>November</td>\n",
              "    </tr>\n",
              "    <tr>\n",
              "      <th>1</th>\n",
              "      <td>November</td>\n",
              "    </tr>\n",
              "    <tr>\n",
              "      <th>2</th>\n",
              "      <td>December</td>\n",
              "    </tr>\n",
              "    <tr>\n",
              "      <th>3</th>\n",
              "      <td>December</td>\n",
              "    </tr>\n",
              "    <tr>\n",
              "      <th>4</th>\n",
              "      <td>December</td>\n",
              "    </tr>\n",
              "    <tr>\n",
              "      <th>...</th>\n",
              "      <td>...</td>\n",
              "    </tr>\n",
              "    <tr>\n",
              "      <th>911</th>\n",
              "      <td>November</td>\n",
              "    </tr>\n",
              "    <tr>\n",
              "      <th>912</th>\n",
              "      <td>November</td>\n",
              "    </tr>\n",
              "    <tr>\n",
              "      <th>913</th>\n",
              "      <td>October</td>\n",
              "    </tr>\n",
              "    <tr>\n",
              "      <th>914</th>\n",
              "      <td>May</td>\n",
              "    </tr>\n",
              "    <tr>\n",
              "      <th>915</th>\n",
              "      <td>June</td>\n",
              "    </tr>\n",
              "  </tbody>\n",
              "</table>\n",
              "<p>916 rows × 1 columns</p>\n",
              "</div>"
            ],
            "text/plain": [
              "    AcquisitionMonth\n",
              "0           November\n",
              "1           November\n",
              "2           December\n",
              "3           December\n",
              "4           December\n",
              "..               ...\n",
              "911         November\n",
              "912         November\n",
              "913          October\n",
              "914              May\n",
              "915             June\n",
              "\n",
              "[916 rows x 1 columns]"
            ]
          },
          "metadata": {
            "tags": []
          },
          "execution_count": 140
        }
      ]
    },
    {
      "cell_type": "code",
      "metadata": {
        "id": "BEB6M36SBG1s"
      },
      "source": [
        "#data1=pd.to_numeric(Month, downcast='integer',errors='coerce')"
      ],
      "execution_count": null,
      "outputs": []
    },
    {
      "cell_type": "code",
      "metadata": {
        "id": "POn-ZT1M95p-"
      },
      "source": [
        ""
      ],
      "execution_count": null,
      "outputs": []
    },
    {
      "cell_type": "code",
      "metadata": {
        "id": "I3N_vwJL94nq"
      },
      "source": [
        ""
      ],
      "execution_count": null,
      "outputs": []
    },
    {
      "cell_type": "code",
      "metadata": {
        "id": "-MdH29_UBHDe"
      },
      "source": [
        "#Month.round(0) #(int,errors='ignore')"
      ],
      "execution_count": null,
      "outputs": []
    },
    {
      "cell_type": "code",
      "metadata": {
        "id": "DtTxGpGq9idM"
      },
      "source": [
        ""
      ],
      "execution_count": null,
      "outputs": []
    },
    {
      "cell_type": "code",
      "metadata": {
        "id": "zf4EOdp29iva"
      },
      "source": [
        ""
      ],
      "execution_count": null,
      "outputs": []
    },
    {
      "cell_type": "code",
      "metadata": {
        "id": "rV3EVTM3y2Nm",
        "colab": {
          "base_uri": "https://localhost:8080/"
        },
        "outputId": "7e00f290-caad-4334-a3e5-419d231ec80d"
      },
      "source": [
        "print(data.iloc[:,1:3])"
      ],
      "execution_count": null,
      "outputs": [
        {
          "output_type": "stream",
          "text": [
            "    AcquisitionMonth  AcquisitionMonthDate\n",
            "0           November                  11.0\n",
            "1           November                  11.0\n",
            "2           December                   8.0\n",
            "3           December                  18.0\n",
            "4           December                  21.0\n",
            "..               ...                   ...\n",
            "911         November                   6.0\n",
            "912         November                   9.0\n",
            "913          October                  11.0\n",
            "914              May                  18.0\n",
            "915             June                   4.0\n",
            "\n",
            "[916 rows x 2 columns]\n"
          ],
          "name": "stdout"
        }
      ]
    },
    {
      "cell_type": "code",
      "metadata": {
        "id": "QPXp-5Xa5JIj"
      },
      "source": [
        "from sklearn.impute import SimpleImputer"
      ],
      "execution_count": null,
      "outputs": []
    },
    {
      "cell_type": "code",
      "metadata": {
        "id": "QL5HIrhd5JK2"
      },
      "source": [
        "imp_mean=SimpleImputer(missing_values=np.nan,strategy='mean')"
      ],
      "execution_count": null,
      "outputs": []
    },
    {
      "cell_type": "code",
      "metadata": {
        "id": "sdE7MEvEtf8y"
      },
      "source": [
        "#imp_mean.fit(data[:, 1:3])"
      ],
      "execution_count": null,
      "outputs": []
    },
    {
      "cell_type": "code",
      "metadata": {
        "id": "vUlpkPjDtgAQ"
      },
      "source": [
        "#data[:, 1:3]=imp_mean.fit_transform(data[:, 1:3])"
      ],
      "execution_count": null,
      "outputs": []
    },
    {
      "cell_type": "code",
      "metadata": {
        "id": "963RvOiRtgC9",
        "colab": {
          "base_uri": "https://localhost:8080/",
          "height": 719
        },
        "outputId": "41145ecf-5e29-451d-ae39-ef800a2173a9"
      },
      "source": [
        "data"
      ],
      "execution_count": null,
      "outputs": [
        {
          "output_type": "execute_result",
          "data": {
            "text/html": [
              "<div>\n",
              "<style scoped>\n",
              "    .dataframe tbody tr th:only-of-type {\n",
              "        vertical-align: middle;\n",
              "    }\n",
              "\n",
              "    .dataframe tbody tr th {\n",
              "        vertical-align: top;\n",
              "    }\n",
              "\n",
              "    .dataframe thead th {\n",
              "        text-align: right;\n",
              "    }\n",
              "</style>\n",
              "<table border=\"1\" class=\"dataframe\">\n",
              "  <thead>\n",
              "    <tr style=\"text-align: right;\">\n",
              "      <th></th>\n",
              "      <th>AcquisitionID</th>\n",
              "      <th>AcquisitionMonth</th>\n",
              "      <th>AcquisitionMonthDate</th>\n",
              "      <th>AcquisitionYear</th>\n",
              "      <th>Company</th>\n",
              "      <th>Business</th>\n",
              "      <th>Country</th>\n",
              "      <th>Value (USD)</th>\n",
              "      <th>Derived products</th>\n",
              "      <th>ParentCompany</th>\n",
              "    </tr>\n",
              "  </thead>\n",
              "  <tbody>\n",
              "    <tr>\n",
              "      <th>0</th>\n",
              "      <td>ACQ99</td>\n",
              "      <td>November</td>\n",
              "      <td>11.0</td>\n",
              "      <td>2015</td>\n",
              "      <td>bebop</td>\n",
              "      <td>Cloud software</td>\n",
              "      <td>USA</td>\n",
              "      <td>758.41698</td>\n",
              "      <td>Google Cloud Platform</td>\n",
              "      <td>Google</td>\n",
              "    </tr>\n",
              "    <tr>\n",
              "      <th>1</th>\n",
              "      <td>ACQ98</td>\n",
              "      <td>November</td>\n",
              "      <td>11.0</td>\n",
              "      <td>2015</td>\n",
              "      <td>Fly Labs</td>\n",
              "      <td>Video editing</td>\n",
              "      <td>USA</td>\n",
              "      <td>758.41698</td>\n",
              "      <td>Google Photos</td>\n",
              "      <td>Google</td>\n",
              "    </tr>\n",
              "    <tr>\n",
              "      <th>2</th>\n",
              "      <td>ACQ97</td>\n",
              "      <td>December</td>\n",
              "      <td>8.0</td>\n",
              "      <td>2015</td>\n",
              "      <td>Clearleap</td>\n",
              "      <td>Cloud-based video management</td>\n",
              "      <td>USA</td>\n",
              "      <td>758.41698</td>\n",
              "      <td>NaN</td>\n",
              "      <td>IBM</td>\n",
              "    </tr>\n",
              "    <tr>\n",
              "      <th>3</th>\n",
              "      <td>ACQ96</td>\n",
              "      <td>December</td>\n",
              "      <td>18.0</td>\n",
              "      <td>2015</td>\n",
              "      <td>Metanautix</td>\n",
              "      <td>Big Data Analytics</td>\n",
              "      <td>USA</td>\n",
              "      <td>758.41698</td>\n",
              "      <td>NaN</td>\n",
              "      <td>Microsoft</td>\n",
              "    </tr>\n",
              "    <tr>\n",
              "      <th>4</th>\n",
              "      <td>ACQ95</td>\n",
              "      <td>December</td>\n",
              "      <td>21.0</td>\n",
              "      <td>2015</td>\n",
              "      <td>Talko, Inc.</td>\n",
              "      <td>Mobile communications</td>\n",
              "      <td>USA</td>\n",
              "      <td>758.41698</td>\n",
              "      <td>NaN</td>\n",
              "      <td>Microsoft</td>\n",
              "    </tr>\n",
              "    <tr>\n",
              "      <th>...</th>\n",
              "      <td>...</td>\n",
              "      <td>...</td>\n",
              "      <td>...</td>\n",
              "      <td>...</td>\n",
              "      <td>...</td>\n",
              "      <td>...</td>\n",
              "      <td>...</td>\n",
              "      <td>...</td>\n",
              "      <td>...</td>\n",
              "      <td>...</td>\n",
              "    </tr>\n",
              "    <tr>\n",
              "      <th>911</th>\n",
              "      <td>ACQ101</td>\n",
              "      <td>November</td>\n",
              "      <td>6.0</td>\n",
              "      <td>2015</td>\n",
              "      <td>Cleversafe</td>\n",
              "      <td>Object-based storage software</td>\n",
              "      <td>USA</td>\n",
              "      <td>758.41698</td>\n",
              "      <td>NaN</td>\n",
              "      <td>IBM</td>\n",
              "    </tr>\n",
              "    <tr>\n",
              "      <th>912</th>\n",
              "      <td>ACQ100</td>\n",
              "      <td>November</td>\n",
              "      <td>9.0</td>\n",
              "      <td>2015</td>\n",
              "      <td>Secure Islands Technologies Ltd.</td>\n",
              "      <td>Data protection</td>\n",
              "      <td>ISR</td>\n",
              "      <td>758.41698</td>\n",
              "      <td>NaN</td>\n",
              "      <td>Microsoft</td>\n",
              "    </tr>\n",
              "    <tr>\n",
              "      <th>913</th>\n",
              "      <td>ACQ10</td>\n",
              "      <td>October</td>\n",
              "      <td>11.0</td>\n",
              "      <td>2017</td>\n",
              "      <td>60db</td>\n",
              "      <td>Podcasts</td>\n",
              "      <td>USA</td>\n",
              "      <td>758.41698</td>\n",
              "      <td>Google Play Music</td>\n",
              "      <td>Google</td>\n",
              "    </tr>\n",
              "    <tr>\n",
              "      <th>914</th>\n",
              "      <td>ACQ1</td>\n",
              "      <td>May</td>\n",
              "      <td>18.0</td>\n",
              "      <td>2018</td>\n",
              "      <td>Semantic Machines</td>\n",
              "      <td>Conversational AI</td>\n",
              "      <td>USA</td>\n",
              "      <td>758.41698</td>\n",
              "      <td>NaN</td>\n",
              "      <td>Microsoft</td>\n",
              "    </tr>\n",
              "    <tr>\n",
              "      <th>915</th>\n",
              "      <td>AcQ916</td>\n",
              "      <td>June</td>\n",
              "      <td>4.0</td>\n",
              "      <td>2018</td>\n",
              "      <td>Github</td>\n",
              "      <td>Version Control Hosting</td>\n",
              "      <td>USA</td>\n",
              "      <td>758.41698</td>\n",
              "      <td>NaN</td>\n",
              "      <td>Microsoft</td>\n",
              "    </tr>\n",
              "  </tbody>\n",
              "</table>\n",
              "<p>916 rows × 10 columns</p>\n",
              "</div>"
            ],
            "text/plain": [
              "    AcquisitionID AcquisitionMonth  ...       Derived products  ParentCompany\n",
              "0           ACQ99         November  ...  Google Cloud Platform         Google\n",
              "1           ACQ98         November  ...          Google Photos         Google\n",
              "2           ACQ97         December  ...                    NaN            IBM\n",
              "3           ACQ96         December  ...                    NaN      Microsoft\n",
              "4           ACQ95         December  ...                    NaN      Microsoft\n",
              "..            ...              ...  ...                    ...            ...\n",
              "911        ACQ101         November  ...                    NaN            IBM\n",
              "912        ACQ100         November  ...                    NaN      Microsoft\n",
              "913         ACQ10          October  ...      Google Play Music         Google\n",
              "914          ACQ1              May  ...                    NaN      Microsoft\n",
              "915        AcQ916             June  ...                    NaN      Microsoft\n",
              "\n",
              "[916 rows x 10 columns]"
            ]
          },
          "metadata": {
            "tags": []
          },
          "execution_count": 148
        }
      ]
    },
    {
      "cell_type": "code",
      "metadata": {
        "id": "vxB-KRxNtgFo"
      },
      "source": [
        ""
      ],
      "execution_count": null,
      "outputs": []
    },
    {
      "cell_type": "code",
      "metadata": {
        "id": "_dno3UPXtgId"
      },
      "source": [
        ""
      ],
      "execution_count": null,
      "outputs": []
    }
  ]
}